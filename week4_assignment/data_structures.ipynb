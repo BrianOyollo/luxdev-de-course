{
 "cells": [
  {
   "cell_type": "markdown",
   "id": "b3e530a7",
   "metadata": {},
   "source": [
    "**1. Create a list of 5 fruits and print the third fruit**"
   ]
  },
  {
   "cell_type": "code",
   "execution_count": 1,
   "id": "8a83f69d",
   "metadata": {},
   "outputs": [
    {
     "data": {
      "text/plain": [
       "'cherry'"
      ]
     },
     "execution_count": 1,
     "metadata": {},
     "output_type": "execute_result"
    }
   ],
   "source": [
    "fruits = ['apple', 'banana', 'cherry', 'orange', 'grape']\n",
    "fruits[2]"
   ]
  },
  {
   "cell_type": "markdown",
   "id": "348a4b7a",
   "metadata": {},
   "source": [
    "**2. Create a dictionary with keys: name, age. Print the value of age**"
   ]
  },
  {
   "cell_type": "code",
   "execution_count": 2,
   "id": "5793bbcf",
   "metadata": {},
   "outputs": [
    {
     "data": {
      "text/plain": [
       "18"
      ]
     },
     "execution_count": 2,
     "metadata": {},
     "output_type": "execute_result"
    }
   ],
   "source": [
    "data = {\"name\":\"John Doe\", \"age\":18}\n",
    "data['age']"
   ]
  },
  {
   "cell_type": "markdown",
   "id": "eda1717c",
   "metadata": {},
   "source": [
    "**3.Define a tuple with three numbers. Try modifying it. What happens?**"
   ]
  },
  {
   "cell_type": "code",
   "execution_count": null,
   "id": "c701e768",
   "metadata": {},
   "outputs": [
    {
     "ename": "TypeError",
     "evalue": "'tuple' object does not support item assignment",
     "output_type": "error",
     "traceback": [
      "\u001b[0;31m---------------------------------------------------------------------------\u001b[0m",
      "\u001b[0;31mTypeError\u001b[0m                                 Traceback (most recent call last)",
      "Cell \u001b[0;32mIn[7], line 2\u001b[0m\n\u001b[1;32m      1\u001b[0m nums \u001b[38;5;241m=\u001b[39m (\u001b[38;5;241m0\u001b[39m,\u001b[38;5;241m1\u001b[39m,\u001b[38;5;241m2\u001b[39m)\n\u001b[0;32m----> 2\u001b[0m nums[\u001b[38;5;241m0\u001b[39m] \u001b[38;5;241m=\u001b[39m \u001b[38;5;241m1\u001b[39m\n\u001b[1;32m      3\u001b[0m nums\n",
      "\u001b[0;31mTypeError\u001b[0m: 'tuple' object does not support item assignment"
     ]
    }
   ],
   "source": [
    "nums = (0,1,2)\n",
    "nums[0] = 1\n",
    "nums\n",
    "\n",
    "# throws an error because tuples are immutable\n"
   ]
  },
  {
   "cell_type": "markdown",
   "id": "c980248d",
   "metadata": {},
   "source": [
    "**4. Create a set from a list with duplicate values.**"
   ]
  },
  {
   "cell_type": "code",
   "execution_count": 8,
   "id": "774fa96c",
   "metadata": {},
   "outputs": [
    {
     "data": {
      "text/plain": [
       "{'apple', 'banana', 'cherry', 'grape', 'orange'}"
      ]
     },
     "execution_count": 8,
     "metadata": {},
     "output_type": "execute_result"
    }
   ],
   "source": [
    "fruits = ['cherry', 'orange','apple', 'banana', 'cherry', 'orange', 'grape','banana']\n",
    "fruits_set = set(fruits)\n",
    "fruits_set\n"
   ]
  },
  {
   "cell_type": "markdown",
   "id": "ed890348",
   "metadata": {},
   "source": [
    "### Challenge\n",
    "\n",
    "- Takes 5 user inputs and stores them in a list\n",
    "- Converts the list into a set and prints the unique values\n"
   ]
  },
  {
   "cell_type": "code",
   "execution_count": 10,
   "id": "1d0d5424",
   "metadata": {},
   "outputs": [
    {
     "name": "stdout",
     "output_type": "stream",
     "text": [
      "user input: a,b,2,2,d\n"
     ]
    },
    {
     "data": {
      "text/plain": [
       "{'2', 'a', 'b', 'd'}"
      ]
     },
     "execution_count": 10,
     "metadata": {},
     "output_type": "execute_result"
    }
   ],
   "source": [
    "def print_unique():\n",
    "    user_input  = input(\"Enter 5 items(anything) separated by a comma\")\n",
    "    print(f\"user input: {user_input}\")\n",
    "    items = user_input.split(\",\")\n",
    "    unique_items = set(items)\n",
    "    return unique_items\n",
    "\n",
    "\n",
    "print_unique()"
   ]
  }
 ],
 "metadata": {
  "kernelspec": {
   "display_name": "base",
   "language": "python",
   "name": "python3"
  },
  "language_info": {
   "codemirror_mode": {
    "name": "ipython",
    "version": 3
   },
   "file_extension": ".py",
   "mimetype": "text/x-python",
   "name": "python",
   "nbconvert_exporter": "python",
   "pygments_lexer": "ipython3",
   "version": "3.11.5"
  }
 },
 "nbformat": 4,
 "nbformat_minor": 5
}
