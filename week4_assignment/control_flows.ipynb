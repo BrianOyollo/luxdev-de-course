{
 "cells": [
  {
   "cell_type": "markdown",
   "id": "ced2e4c5",
   "metadata": {},
   "source": [
    "**1. Write a program that checks if a number is positive, negative, or zero.**"
   ]
  },
  {
   "cell_type": "code",
   "execution_count": 3,
   "id": "fa76d37a",
   "metadata": {},
   "outputs": [
    {
     "name": "stdout",
     "output_type": "stream",
     "text": [
      "negative number\n",
      "positive number\n",
      "num is 0\n"
     ]
    }
   ],
   "source": [
    "def check_num(num):\n",
    "    if num < 0:\n",
    "        return 'negative number'\n",
    "    elif num > 0:\n",
    "        return 'positive number'\n",
    "    else:\n",
    "        return 'num is 0'\n",
    "\n",
    "print(check_num(-0.9))\n",
    "print(check_num(10))\n",
    "print(check_num(0))"
   ]
  },
  {
   "cell_type": "markdown",
   "id": "d5c9c1ff",
   "metadata": {},
   "source": [
    "**2. Create a program that checks if someone is eligible to vote**"
   ]
  },
  {
   "cell_type": "code",
   "execution_count": 7,
   "id": "6abba5c1",
   "metadata": {},
   "outputs": [
    {
     "name": "stdout",
     "output_type": "stream",
     "text": [
      "user age: 18\n",
      "\n",
      "You can vote\n"
     ]
    }
   ],
   "source": [
    "user_age = int(input(\"Enter your age:\"))\n",
    "print(f\"user age: {user_age}\\n\")\n",
    "if user_age < 18:\n",
    "    print(\"Not eligible to vote\")\n",
    "else:\n",
    "    print(\"You can vote\")"
   ]
  },
  {
   "cell_type": "markdown",
   "id": "7bef5cfb",
   "metadata": {},
   "source": [
    "**3. Write a program that takes 3 numbers and prints the largest one**"
   ]
  },
  {
   "cell_type": "code",
   "execution_count": 11,
   "id": "8d2dd9b9",
   "metadata": {},
   "outputs": [
    {
     "data": {
      "text/plain": [
       "3"
      ]
     },
     "execution_count": 11,
     "metadata": {},
     "output_type": "execute_result"
    }
   ],
   "source": [
    "def find_max(num1,num2,num3):\n",
    "    return max([num1, num2,num3])\n",
    "\n",
    "find_max(1,2,3)"
   ]
  },
  {
   "cell_type": "markdown",
   "id": "69ff8f81",
   "metadata": {},
   "source": [
    "### Challenge\n",
    "\n",
    "- Input score (0–100)\n",
    "- Output grade: A (90+), B (80–89), etc.\n"
   ]
  },
  {
   "cell_type": "code",
   "execution_count": null,
   "id": "a1de9f3c",
   "metadata": {},
   "outputs": [
    {
     "name": "stdout",
     "output_type": "stream",
     "text": [
      "Score should be between 0 and 100\n"
     ]
    },
    {
     "data": {
      "text/plain": [
       "'A'"
      ]
     },
     "execution_count": 58,
     "metadata": {},
     "output_type": "execute_result"
    }
   ],
   "source": [
    "def grade_score(score):\n",
    "    if not isinstance(score, (int, float)):\n",
    "        print(\"Score must be a number\")\n",
    "        return\n",
    "\n",
    "    if score < 0 or score > 100:\n",
    "        print(\"Score should be between 0 and 100\")\n",
    "        return\n",
    "\n",
    "    if score > 90:\n",
    "        return \"A\"\n",
    "    elif score >= 80:\n",
    "        return  \"B+\"\n",
    "    elif score >= 70:\n",
    "        return \"B\"\n",
    "    elif score >= 60:\n",
    "        return \"B-\"\n",
    "    elif score >= 50:\n",
    "        return 'C'\n",
    "    elif score >= 40:\n",
    "        return 'D'\n",
    "    else:\n",
    "        return \"Fail\"\n",
    "\n",
    "    return score\n",
    "\n",
    "grade_score(800)"
   ]
  }
 ],
 "metadata": {
  "kernelspec": {
   "display_name": "base",
   "language": "python",
   "name": "python3"
  },
  "language_info": {
   "codemirror_mode": {
    "name": "ipython",
    "version": 3
   },
   "file_extension": ".py",
   "mimetype": "text/x-python",
   "name": "python",
   "nbconvert_exporter": "python",
   "pygments_lexer": "ipython3",
   "version": "3.11.5"
  }
 },
 "nbformat": 4,
 "nbformat_minor": 5
}
