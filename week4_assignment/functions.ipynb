{
 "cells": [
  {
   "cell_type": "markdown",
   "id": "2d5cfb06",
   "metadata": {},
   "source": [
    "**1. Write a function greet(name) that prints “Hello, [name]”.**"
   ]
  },
  {
   "cell_type": "code",
   "execution_count": 1,
   "id": "0c6de5d6",
   "metadata": {},
   "outputs": [
    {
     "data": {
      "text/plain": [
       "'Hello, John Doe'"
      ]
     },
     "execution_count": 1,
     "metadata": {},
     "output_type": "execute_result"
    }
   ],
   "source": [
    "def greet(name):\n",
    "    return f\"Hello, {name}\"\n",
    "\n",
    "greet(\"John Doe\")"
   ]
  },
  {
   "cell_type": "markdown",
   "id": "66e5ec5a",
   "metadata": {},
   "source": [
    "**2. Create a function add(a, b) that returns the sum**"
   ]
  },
  {
   "cell_type": "code",
   "execution_count": 4,
   "id": "9c6f8695",
   "metadata": {},
   "outputs": [
    {
     "data": {
      "text/plain": [
       "3"
      ]
     },
     "execution_count": 4,
     "metadata": {},
     "output_type": "execute_result"
    }
   ],
   "source": [
    "def add(a,b):\n",
    "    return a+b\n",
    "\n",
    "add(1,2)"
   ]
  },
  {
   "cell_type": "markdown",
   "id": "5031f1ae",
   "metadata": {},
   "source": [
    "**3. Modify add() to print “even” or “odd” based on the result.**"
   ]
  },
  {
   "cell_type": "code",
   "execution_count": 6,
   "id": "ca62b362",
   "metadata": {},
   "outputs": [
    {
     "data": {
      "text/plain": [
       "'odd'"
      ]
     },
     "execution_count": 6,
     "metadata": {},
     "output_type": "execute_result"
    }
   ],
   "source": [
    "def add_modified(a,b):\n",
    "    if (a+b) % 2 == 0:\n",
    "        return 'even'\n",
    "    else:\n",
    "        return 'odd'\n",
    "\n",
    "add_modified(1,2)"
   ]
  },
  {
   "cell_type": "markdown",
   "id": "95949230",
   "metadata": {},
   "source": [
    "**3.Call a function from within another function.**"
   ]
  },
  {
   "cell_type": "code",
   "execution_count": 8,
   "id": "2a84dafd",
   "metadata": {},
   "outputs": [
    {
     "name": "stdout",
     "output_type": "stream",
     "text": [
      "4\n",
      "even\n"
     ]
    }
   ],
   "source": [
    "def all_results():\n",
    "    sum_results = add(2,2)\n",
    "    sum_type = add_modified(2,2)\n",
    "\n",
    "    print(sum_results)\n",
    "    print(sum_type)\n",
    "\n",
    "all_results()\n"
   ]
  },
  {
   "cell_type": "markdown",
   "id": "3ab3ac92",
   "metadata": {},
   "source": [
    "### Challenge\n",
    "Write a calculator function:\n",
    "- Takes two numbers and an operation (+, -, *, /)\n",
    "- Returns the result\n"
   ]
  },
  {
   "cell_type": "code",
   "execution_count": 40,
   "id": "a5642a1e",
   "metadata": {},
   "outputs": [
    {
     "name": "stdout",
     "output_type": "stream",
     "text": [
      "4\n",
      "4\n",
      "0\n",
      "1.0\n",
      "Cannot divide by zero\n"
     ]
    }
   ],
   "source": [
    "def calculator(a,b,operation):\n",
    "    supported_operations = [\"+\", \"-\", \"*\", \"/\"]\n",
    "\n",
    "    if operation not in supported_operations:\n",
    "        print(\"Operation not supported!\")\n",
    "        return\n",
    "\n",
    "    if not isinstance(a, (int, float)) or not isinstance(b, (int, float)):\n",
    "        return \"Only numbers are supported\"\n",
    "\n",
    "    try:\n",
    "        if operation == \"+\":\n",
    "            return(a + b)\n",
    "        elif operation == \"-\":\n",
    "            return(a - b)\n",
    "        elif operation == \"*\":\n",
    "            return(a * b)\n",
    "        else:\n",
    "            return(a / b)\n",
    "   \n",
    "    except ZeroDivisionError:\n",
    "        return \"Cannot divide by zero\"\n",
    "\n",
    "\n",
    "print(calculator(2,2,\"*\"))\n",
    "print(calculator(2,2,\"+\"))\n",
    "print(calculator(2,2,\"-\"))\n",
    "print(calculator(2,2,\"/\"))\n",
    "print(calculator(2,0,\"/\"))"
   ]
  },
  {
   "cell_type": "markdown",
   "id": "16f99922",
   "metadata": {},
   "source": []
  }
 ],
 "metadata": {
  "kernelspec": {
   "display_name": "base",
   "language": "python",
   "name": "python3"
  },
  "language_info": {
   "codemirror_mode": {
    "name": "ipython",
    "version": 3
   },
   "file_extension": ".py",
   "mimetype": "text/x-python",
   "name": "python",
   "nbconvert_exporter": "python",
   "pygments_lexer": "ipython3",
   "version": "3.11.5"
  }
 },
 "nbformat": 4,
 "nbformat_minor": 5
}
