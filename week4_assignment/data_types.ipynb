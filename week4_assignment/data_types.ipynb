{
 "cells": [
  {
   "cell_type": "markdown",
   "id": "c2bfa4aa",
   "metadata": {},
   "source": [
    "**1. Print the type of 42, 3.14, and 'hello'**"
   ]
  },
  {
   "cell_type": "code",
   "execution_count": 1,
   "id": "631cd674",
   "metadata": {},
   "outputs": [
    {
     "name": "stdout",
     "output_type": "stream",
     "text": [
      "<class 'int'>\n",
      "<class 'float'>\n",
      "<class 'str'>\n"
     ]
    }
   ],
   "source": [
    "print(type(42))\n",
    "print(type(3.14))\n",
    "print(type('hello'))"
   ]
  },
  {
   "cell_type": "markdown",
   "id": "77223087",
   "metadata": {},
   "source": [
    "**2. Convert a string '100' to an integer**"
   ]
  },
  {
   "cell_type": "code",
   "execution_count": 2,
   "id": "98295a1e",
   "metadata": {},
   "outputs": [
    {
     "data": {
      "text/plain": [
       "100"
      ]
     },
     "execution_count": 2,
     "metadata": {},
     "output_type": "execute_result"
    }
   ],
   "source": [
    "x = int('100')\n",
    "x"
   ]
  },
  {
   "cell_type": "markdown",
   "id": "91accc2c",
   "metadata": {},
   "source": [
    "**3. Add an integer and a float together. What is the result?**"
   ]
  },
  {
   "cell_type": "code",
   "execution_count": 5,
   "id": "1947d23f",
   "metadata": {},
   "outputs": [
    {
     "data": {
      "text/plain": [
       "4.0"
      ]
     },
     "execution_count": 5,
     "metadata": {},
     "output_type": "execute_result"
    }
   ],
   "source": [
    "2 + 2.0\n",
    "\n",
    "# result is a float"
   ]
  },
  {
   "cell_type": "markdown",
   "id": "0cf3bce0",
   "metadata": {},
   "source": [
    "**4. What happens when you try to multiply a string by a number?**"
   ]
  },
  {
   "cell_type": "code",
   "execution_count": null,
   "id": "0c5a6ff9",
   "metadata": {},
   "outputs": [
    {
     "data": {
      "text/plain": [
       "'hello worldhello world'"
      ]
     },
     "execution_count": 8,
     "metadata": {},
     "output_type": "execute_result"
    }
   ],
   "source": [
    "num = 2\n",
    "string = \"hello world\"\n",
    "num*string\n",
    "\n",
    "# string is printed 'num' times"
   ]
  },
  {
   "cell_type": "markdown",
   "id": "a04f4da4",
   "metadata": {},
   "source": [
    "### Challenge\n",
    "\n",
    "- Asks the user to enter two numbers (as strings)\n",
    "- Converts them to integers or floats\n",
    "- Prints their sum and type\n"
   ]
  },
  {
   "cell_type": "code",
   "execution_count": 23,
   "id": "82cbd4b6",
   "metadata": {},
   "outputs": [
    {
     "name": "stdout",
     "output_type": "stream",
     "text": [
      "user input: 2,2.0\n",
      "4.0\n",
      "<class 'float'>\n"
     ]
    }
   ],
   "source": [
    "def add():\n",
    "    nums = input(\"Enter two numbers sep by a comma\")\n",
    "    print(f\"user input: {nums}\")\n",
    "    x,y = nums.split(\",\")\n",
    "    try:\n",
    "        result = int(x)+int(y)\n",
    "        print(result)\n",
    "        print(type(result))\n",
    "    except ValueError:\n",
    "        result = float(x)+float(y)\n",
    "        print(result)\n",
    "        print(type(result))\n",
    "\n",
    "add()"
   ]
  }
 ],
 "metadata": {
  "kernelspec": {
   "display_name": "base",
   "language": "python",
   "name": "python3"
  },
  "language_info": {
   "codemirror_mode": {
    "name": "ipython",
    "version": 3
   },
   "file_extension": ".py",
   "mimetype": "text/x-python",
   "name": "python",
   "nbconvert_exporter": "python",
   "pygments_lexer": "ipython3",
   "version": "3.11.5"
  }
 },
 "nbformat": 4,
 "nbformat_minor": 5
}
