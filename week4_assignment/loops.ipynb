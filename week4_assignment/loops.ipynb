{
 "cells": [
  {
   "cell_type": "markdown",
   "id": "1c6c0380",
   "metadata": {},
   "source": [
    "**1. Use a for loop to print numbers from 1 to 10**"
   ]
  },
  {
   "cell_type": "code",
   "execution_count": 3,
   "id": "01db4649",
   "metadata": {},
   "outputs": [
    {
     "name": "stdout",
     "output_type": "stream",
     "text": [
      "1,2,3,4,5,6,7,8,9,"
     ]
    }
   ],
   "source": [
    "for x in range(1,10,1):\n",
    "    print(x, end=\",\")"
   ]
  },
  {
   "cell_type": "markdown",
   "id": "14628096",
   "metadata": {},
   "source": [
    "**2. Use a while loop to print numbers until the user enters stop**"
   ]
  },
  {
   "cell_type": "code",
   "execution_count": 2,
   "id": "f5341531",
   "metadata": {},
   "outputs": [
    {
     "name": "stdout",
     "output_type": "stream",
     "text": [
      "0\n",
      "1\n",
      "2\n",
      "3\n",
      "4\n",
      "5\n",
      "6\n",
      "7\n"
     ]
    }
   ],
   "source": [
    "user_input = input(\"Type 'stop' to stop this operation\")\n",
    "num = 0\n",
    "while user_input != 'stop':\n",
    "    print(num)\n",
    "    num += 1\n",
    "    user_input = input(\"Type 'stop' to stop this operation\")\n",
    "\n"
   ]
  },
  {
   "cell_type": "markdown",
   "id": "1e3108ff",
   "metadata": {},
   "source": [
    "**3. Write a loop that prints even numbers from 1 to 20**"
   ]
  },
  {
   "cell_type": "code",
   "execution_count": 5,
   "id": "b336545c",
   "metadata": {},
   "outputs": [
    {
     "name": "stdout",
     "output_type": "stream",
     "text": [
      "2\n",
      "4\n",
      "6\n",
      "8\n",
      "10\n",
      "12\n",
      "14\n",
      "16\n",
      "18\n",
      "20\n"
     ]
    }
   ],
   "source": [
    "num = 1\n",
    "while num <= 20:\n",
    "    if num % 2 == 0:\n",
    "        print(num)\n",
    "    num+=1"
   ]
  },
  {
   "cell_type": "markdown",
   "id": "8eee0240",
   "metadata": {},
   "source": [
    "**4. Explain what break and continue do in your own words.**"
   ]
  },
  {
   "cell_type": "markdown",
   "id": "3b2fd475",
   "metadata": {},
   "source": [
    "**break** - terminates the loop and proceeds to the next statement\n",
    "**continue** - skips everything else in the current loop iteration and proceeds to the next iteration"
   ]
  },
  {
   "cell_type": "markdown",
   "id": "43160dd1",
   "metadata": {},
   "source": [
    "### Challenge\n",
    "\n",
    "- Give feedback (too high / too low)\n",
    "- Use a while loop"
   ]
  },
  {
   "cell_type": "code",
   "execution_count": null,
   "id": "54fd5c25",
   "metadata": {},
   "outputs": [
    {
     "name": "stdout",
     "output_type": "stream",
     "text": [
      "Guess a secret number between 1 and 10. You have 5 attempts!\n",
      "Too high\n",
      "Too low\n",
      "Success!!\n"
     ]
    }
   ],
   "source": [
    "import random \n",
    "\n",
    "attempts = 0\n",
    "secret_num = random.randint(1,10)\n",
    "\n",
    "print(\"Guess a secret number between 1 and 10. You have 5 attempts!\")\n",
    "while attempts < 5:\n",
    "    user_input = int(input(\"Your guess: \"))\n",
    "    attempts+=1\n",
    "\n",
    "    if user_input == secret_num:\n",
    "        print(\"Success!!\")\n",
    "        break\n",
    "\n",
    "    if attempts == 5:\n",
    "        print(f\"Failed! The secret is: {secret_num}\")\n",
    "        break\n",
    "\n",
    "    print(\"Too low\" if user_input < secret_num else \"Too high\")\n",
    "\n"
   ]
  }
 ],
 "metadata": {
  "kernelspec": {
   "display_name": "base",
   "language": "python",
   "name": "python3"
  },
  "language_info": {
   "codemirror_mode": {
    "name": "ipython",
    "version": 3
   },
   "file_extension": ".py",
   "mimetype": "text/x-python",
   "name": "python",
   "nbconvert_exporter": "python",
   "pygments_lexer": "ipython3",
   "version": "3.11.5"
  }
 },
 "nbformat": 4,
 "nbformat_minor": 5
}
