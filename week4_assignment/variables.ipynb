{
 "cells": [
  {
   "cell_type": "markdown",
   "id": "5775e2d2",
   "metadata": {},
   "source": []
  },
  {
   "cell_type": "markdown",
   "id": "0304959d",
   "metadata": {},
   "source": [
    "**1. Declare a variable named age and assign your age to it**"
   ]
  },
  {
   "cell_type": "markdown",
   "id": "5f2b06fb",
   "metadata": {},
   "source": [
    "age  = 10"
   ]
  },
  {
   "cell_type": "markdown",
   "id": "c912c28f",
   "metadata": {
    "vscode": {
     "languageId": "plaintext"
    }
   },
   "source": [
    "**2. Create two variables x = 10 and y = 5. Print their sum**"
   ]
  },
  {
   "cell_type": "code",
   "execution_count": 1,
   "id": "74a6c15e",
   "metadata": {},
   "outputs": [
    {
     "name": "stdout",
     "output_type": "stream",
     "text": [
      "15\n"
     ]
    }
   ],
   "source": [
    "x = 10\n",
    "y = 5\n",
    "print(x+y)"
   ]
  },
  {
   "cell_type": "markdown",
   "id": "8a9466bf",
   "metadata": {},
   "source": [
    "**3. Try using an invalid variable name like 2ndName and observe the error.**"
   ]
  },
  {
   "cell_type": "code",
   "execution_count": 3,
   "id": "b3e25935",
   "metadata": {},
   "outputs": [
    {
     "ename": "SyntaxError",
     "evalue": "invalid decimal literal (2549613670.py, line 1)",
     "output_type": "error",
     "traceback": [
      "\u001b[0;36m  Cell \u001b[0;32mIn[3], line 1\u001b[0;36m\u001b[0m\n\u001b[0;31m    2ndName = \"Doe\"\u001b[0m\n\u001b[0m    ^\u001b[0m\n\u001b[0;31mSyntaxError\u001b[0m\u001b[0;31m:\u001b[0m invalid decimal literal\n"
     ]
    }
   ],
   "source": [
    "2ndName = \"Doe\"\n",
    "print(2ndName)"
   ]
  },
  {
   "cell_type": "markdown",
   "id": "97b30b68",
   "metadata": {},
   "source": [
    "**4. Assign a string to a variable and print it**"
   ]
  },
  {
   "cell_type": "code",
   "execution_count": 4,
   "id": "d8e0a418",
   "metadata": {},
   "outputs": [
    {
     "name": "stdout",
     "output_type": "stream",
     "text": [
      "abc\n"
     ]
    }
   ],
   "source": [
    "letters = 'abc'\n",
    "print(letters)"
   ]
  },
  {
   "cell_type": "markdown",
   "id": "f98b4884",
   "metadata": {},
   "source": [
    "### Challenge\n",
    "Write a program that asks the user to input their name and age, and then prints a greeting."
   ]
  },
  {
   "cell_type": "code",
   "execution_count": 6,
   "id": "7c832d30",
   "metadata": {},
   "outputs": [
    {
     "name": "stdout",
     "output_type": "stream",
     "text": [
      "Hello John Doe. You're  20yrs old!\n"
     ]
    }
   ],
   "source": [
    "name_age = input(\"Enter your name and age using the format: 'name','age' \")\n",
    "name,age  = name_age.split(\",\")\n",
    "print(f\"Hello {name}. You're {age}yrs old!\")"
   ]
  }
 ],
 "metadata": {
  "kernelspec": {
   "display_name": "base",
   "language": "python",
   "name": "python3"
  },
  "language_info": {
   "codemirror_mode": {
    "name": "ipython",
    "version": 3
   },
   "file_extension": ".py",
   "mimetype": "text/x-python",
   "name": "python",
   "nbconvert_exporter": "python",
   "pygments_lexer": "ipython3",
   "version": "3.11.5"
  }
 },
 "nbformat": 4,
 "nbformat_minor": 5
}
